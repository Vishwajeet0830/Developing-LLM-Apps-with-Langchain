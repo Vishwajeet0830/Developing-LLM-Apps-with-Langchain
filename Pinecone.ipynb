{
 "cells": [
  {
   "cell_type": "markdown",
   "id": "c06ec0ef-798b-4a7d-863d-aa9ba3255cc1",
   "metadata": {},
   "source": [
    "### Pinecone"
   ]
  },
  {
   "cell_type": "code",
   "execution_count": 1,
   "id": "299007bd-073d-4368-b728-7ac9c6e1607a",
   "metadata": {},
   "outputs": [
    {
     "name": "stdout",
     "output_type": "stream",
     "text": [
      "d9293cf9-29a0-49a7-8401-9ddb69014ff3\n"
     ]
    }
   ],
   "source": [
    "import os\n",
    "from dotenv import load_dotenv, find_dotenv\n",
    "load_dotenv(find_dotenv(), override=True)\n",
    "print(os.getenv('PINECONE_API_KEY'))"
   ]
  },
  {
   "cell_type": "code",
   "execution_count": 2,
   "id": "f692ffb5-34f7-4aa9-b36c-39b6cfa2d437",
   "metadata": {},
   "outputs": [
    {
     "name": "stdout",
     "output_type": "stream",
     "text": [
      "Note: you may need to restart the kernel to use updated packages.\n"
     ]
    }
   ],
   "source": [
    "pip install -q pinecone-client"
   ]
  },
  {
   "cell_type": "code",
   "execution_count": 3,
   "id": "bc933737-6c5f-4450-bd7f-0c554af505cb",
   "metadata": {},
   "outputs": [
    {
     "name": "stdout",
     "output_type": "stream",
     "text": [
      "Note: you may need to restart the kernel to use updated packages.\n"
     ]
    }
   ],
   "source": [
    "pip install --upgrade -q pinecone-client"
   ]
  },
  {
   "cell_type": "code",
   "execution_count": 4,
   "id": "9847da78-3551-461d-9a00-fe153b88620c",
   "metadata": {},
   "outputs": [
    {
     "name": "stdout",
     "output_type": "stream",
     "text": [
      "Name: pinecone-client\n",
      "Version: 5.0.1\n",
      "Summary: Pinecone client and SDK\n",
      "Home-page: https://www.pinecone.io\n",
      "Author: Pinecone Systems, Inc.\n",
      "Author-email: support@pinecone.io\n",
      "License: Apache-2.0\n",
      "Location: C:\\Users\\Jeet\\AppData\\Local\\Programs\\Python\\Python312\\Lib\\site-packages\n",
      "Requires: certifi, pinecone-plugin-inference, pinecone-plugin-interface, tqdm, typing-extensions, urllib3\n",
      "Required-by: \n",
      "Note: you may need to restart the kernel to use updated packages.\n"
     ]
    }
   ],
   "source": [
    "pip show pinecone-client"
   ]
  },
  {
   "cell_type": "code",
   "execution_count": 5,
   "id": "ceede67e-79e5-4428-ab11-b25d0339868a",
   "metadata": {},
   "outputs": [
    {
     "name": "stdout",
     "output_type": "stream",
     "text": [
      "Index created successfully!\n"
     ]
    }
   ],
   "source": [
    "import os\n",
    "from pinecone import Pinecone, ServerlessSpec\n",
    "\n",
    "# Initialize the Pinecone client with your API key\n",
    "pc = Pinecone(\n",
    "    api_key=os.environ.get(\"PINECONE_API_KEY\"),  # Or replace with your actual API key\n",
    ")\n",
    "\n",
    "# Define the index name and its properties\n",
    "index_name = \"langchain\"\n",
    "dimension = 1536\n",
    "metric = \"cosine\"\n",
    "\n",
    "# Create a new index if it doesn't exist\n",
    "if index_name not in pc.list_indexes().names():\n",
    "    pc.create_index(\n",
    "        name=index_name,\n",
    "        dimension=dimension,\n",
    "        metric=metric,\n",
    "        spec=ServerlessSpec(\n",
    "            cloud='aws',   # Specify cloud provider\n",
    "            region='us-east-1'  # Specify the region\n",
    "        )\n",
    "    )\n",
    "\n",
    "print(\"Index created successfully!\")\n",
    "\n"
   ]
  },
  {
   "cell_type": "markdown",
   "id": "62f3fae4-cd99-492a-ac2b-14d35577e756",
   "metadata": {},
   "source": [
    "### Working with Pinecone Indexes"
   ]
  },
  {
   "cell_type": "code",
   "execution_count": 6,
   "id": "b61c89e7-1d2b-4ebb-8062-f5cde661eae3",
   "metadata": {},
   "outputs": [
    {
     "data": {
      "text/plain": [
       "{'deletion_protection': 'disabled',\n",
       " 'dimension': 1536,\n",
       " 'host': 'langchain-ozgp58x.svc.aped-4627-b74a.pinecone.io',\n",
       " 'metric': 'cosine',\n",
       " 'name': 'langchain',\n",
       " 'spec': {'serverless': {'cloud': 'aws', 'region': 'us-east-1'}},\n",
       " 'status': {'ready': True, 'state': 'Ready'}}"
      ]
     },
     "execution_count": 6,
     "metadata": {},
     "output_type": "execute_result"
    }
   ],
   "source": [
    "pc.list_indexes()[0]"
   ]
  },
  {
   "cell_type": "code",
   "execution_count": 7,
   "id": "3d69ed52-795a-45a3-8d94-5b0cdd26830a",
   "metadata": {},
   "outputs": [
    {
     "data": {
      "text/plain": [
       "{'deletion_protection': 'disabled',\n",
       " 'dimension': 1536,\n",
       " 'host': 'langchain-ozgp58x.svc.aped-4627-b74a.pinecone.io',\n",
       " 'metric': 'cosine',\n",
       " 'name': 'langchain',\n",
       " 'spec': {'serverless': {'cloud': 'aws', 'region': 'us-east-1'}},\n",
       " 'status': {'ready': True, 'state': 'Ready'}}"
      ]
     },
     "execution_count": 7,
     "metadata": {},
     "output_type": "execute_result"
    }
   ],
   "source": [
    "pc.describe_index('langchain')"
   ]
  },
  {
   "cell_type": "code",
   "execution_count": 8,
   "id": "18bf75e6-82db-4cb4-803f-ad2bada8ade8",
   "metadata": {},
   "outputs": [
    {
     "data": {
      "text/plain": [
       "['langchain']"
      ]
     },
     "execution_count": 8,
     "metadata": {},
     "output_type": "execute_result"
    }
   ],
   "source": [
    "pc.list_indexes().names()"
   ]
  },
  {
   "cell_type": "markdown",
   "id": "d3d7dda5-1143-467d-8390-629a47b93212",
   "metadata": {},
   "source": [
    "### Deleted index from pinecone and now creating a new one"
   ]
  },
  {
   "cell_type": "code",
   "execution_count": 35,
   "id": "71f58b08-128e-40ac-9c1e-efa3072cfc71",
   "metadata": {},
   "outputs": [
    {
     "name": "stdout",
     "output_type": "stream",
     "text": [
      "Creating index:langchain\n",
      "Index created!\n"
     ]
    }
   ],
   "source": [
    "from pinecone import ServerlessSpec\n",
    "index_name=\"langchain\"\n",
    "if index_name not in pc.list_indexes().names():\n",
    "    print(f'Creating index:{index_name}')\n",
    "    pc.create_index(\n",
    "        name = index_name,\n",
    "        dimension = 1536,\n",
    "        metric = 'cosine',\n",
    "        spec = ServerlessSpec(\n",
    "            cloud = 'aws',\n",
    "            region = 'us-east-1'\n",
    "        )\n",
    "    )\n",
    "    print(f'Index created!')\n",
    "else:\n",
    "    print(f'Index {index_name} already exists')"
   ]
  },
  {
   "cell_type": "markdown",
   "id": "ce98644a-9051-4307-b230-2c27960af658",
   "metadata": {},
   "source": [
    "### How to Delete a Index"
   ]
  },
  {
   "cell_type": "code",
   "execution_count": 34,
   "id": "5bf9e844-61cc-40e9-b7e0-83416772dccc",
   "metadata": {},
   "outputs": [
    {
     "name": "stdout",
     "output_type": "stream",
     "text": [
      "Deleting index langchain...\n",
      "Done\n"
     ]
    }
   ],
   "source": [
    "index_name = 'langchain'\n",
    "#To check if index already exists\n",
    "if index_name in pc.list_indexes().names():\n",
    "    print(f'Deleting index {index_name}...')\n",
    "    pc.delete_index(index_name)\n",
    "    print('Done')\n",
    "else:\n",
    "    print(f'Index {index_name} does not exist!')"
   ]
  },
  {
   "cell_type": "code",
   "execution_count": 18,
   "id": "959e0b3d-6b19-4626-8185-8d61aa9fa9df",
   "metadata": {},
   "outputs": [
    {
     "data": {
      "text/plain": [
       "{'dimension': 1536,\n",
       " 'index_fullness': 0.0,\n",
       " 'namespaces': {},\n",
       " 'total_vector_count': 0}"
      ]
     },
     "execution_count": 18,
     "metadata": {},
     "output_type": "execute_result"
    }
   ],
   "source": [
    "index.describe_index_stats()"
   ]
  },
  {
   "cell_type": "markdown",
   "id": "2603d2d8-d5d7-43ad-badb-7cd38bccc9da",
   "metadata": {},
   "source": [
    "### Working with Vectors"
   ]
  },
  {
   "cell_type": "code",
   "execution_count": 36,
   "id": "2039f7ab-9e59-4499-bb23-87c68122b0da",
   "metadata": {},
   "outputs": [
    {
     "data": {
      "text/plain": [
       "{'upserted_count': 5}"
      ]
     },
     "execution_count": 36,
     "metadata": {},
     "output_type": "execute_result"
    }
   ],
   "source": [
    "# Lets generate a few random variables with a dimesnion of 1536 using random module\n",
    "import random\n",
    "vectors = [[random.random() for _ in range(1536)] for v in range(5)]\n",
    "ids = list('abcde')\n",
    "index_name = 'langchain'\n",
    "index = pc.Index(index_name)\n",
    "\n",
    "index.upsert(vectors = zip(ids,vectors))"
   ]
  },
  {
   "cell_type": "code",
   "execution_count": 28,
   "id": "1d0efcf5-e34f-4a60-b8fd-bab0902231e3",
   "metadata": {},
   "outputs": [
    {
     "data": {
      "text/plain": [
       "{'upserted_count': 1}"
      ]
     },
     "execution_count": 28,
     "metadata": {},
     "output_type": "execute_result"
    }
   ],
   "source": [
    "# Updating vectors we can use the same upsert method with 2 arguements i.e id of vector and new value to update\n",
    "index.upsert(vectors = [('c', [0.5]*1536)])"
   ]
  },
  {
   "cell_type": "code",
   "execution_count": 41,
   "id": "d6349d69-95aa-4bbd-b64f-6c2f48f3b460",
   "metadata": {},
   "outputs": [],
   "source": [
    "#Fetching vectors\n",
    "#select index if not selected\n",
    "#index.fetch(ids=['c','d'])"
   ]
  },
  {
   "cell_type": "code",
   "execution_count": 31,
   "id": "1b51d0d6-e88f-4a61-8326-80ef2e42ef2c",
   "metadata": {},
   "outputs": [
    {
     "data": {
      "text/plain": [
       "{}"
      ]
     },
     "execution_count": 31,
     "metadata": {},
     "output_type": "execute_result"
    }
   ],
   "source": [
    "#delete vectors by ID\n",
    "index.delete(ids = ['b','c'])"
   ]
  },
  {
   "cell_type": "code",
   "execution_count": 32,
   "id": "e9e0f1a0-e66e-4a77-8809-4f806e82ac02",
   "metadata": {},
   "outputs": [
    {
     "data": {
      "text/plain": [
       "{'dimension': 1536,\n",
       " 'index_fullness': 0.0,\n",
       " 'namespaces': {'': {'vector_count': 3}},\n",
       " 'total_vector_count': 3}"
      ]
     },
     "execution_count": 32,
     "metadata": {},
     "output_type": "execute_result"
    }
   ],
   "source": [
    "index.describe_index_stats()"
   ]
  },
  {
   "cell_type": "code",
   "execution_count": 33,
   "id": "8769eb24-9a2f-44fc-843e-fc6a57492ccf",
   "metadata": {},
   "outputs": [
    {
     "data": {
      "text/plain": [
       "{'namespace': '', 'usage': {'read_units': 1}, 'vectors': {}}"
      ]
     },
     "execution_count": 33,
     "metadata": {},
     "output_type": "execute_result"
    }
   ],
   "source": [
    "#If we try to fetch a vector that does not exist we wont get an error we only get an empty vector\n",
    "index.fetch(ids = ['x'])"
   ]
  },
  {
   "cell_type": "code",
   "execution_count": 37,
   "id": "91a35333-3203-40fd-ba95-3ba1484d9b4a",
   "metadata": {},
   "outputs": [
    {
     "data": {
      "text/plain": [
       "{'matches': [{'id': 'd', 'score': 0.773781717, 'values': []},\n",
       "             {'id': 'a', 'score': 0.757795453, 'values': []},\n",
       "             {'id': 'e', 'score': 0.75589627, 'values': []}],\n",
       " 'namespace': '',\n",
       " 'usage': {'read_units': 5}}"
      ]
     },
     "execution_count": 37,
     "metadata": {},
     "output_type": "execute_result"
    }
   ],
   "source": [
    "#query\n",
    "query_vector = [random.random() for _ in range(1536)]\n",
    "#The query operation will retrieve ID's od most similar vectors in index along with their similarities\n",
    "\n",
    "index.query(\n",
    "    vector = query_vector,\n",
    "    top_k = 3,#top 3 most similar vectors\n",
    "    include_values = False#Don't display actual values of vectors\n",
    "    \n",
    ")"
   ]
  },
  {
   "cell_type": "markdown",
   "id": "ce9d6155-433f-4136-bc8c-905231a55fbc",
   "metadata": {},
   "source": [
    "### Namespaces"
   ]
  },
  {
   "cell_type": "code",
   "execution_count": 39,
   "id": "7381f0aa-273b-4d6e-ade9-93708921c0c3",
   "metadata": {},
   "outputs": [
    {
     "data": {
      "text/plain": [
       "{'dimension': 1536,\n",
       " 'index_fullness': 0.0,\n",
       " 'namespaces': {'': {'vector_count': 5}},\n",
       " 'total_vector_count': 5}"
      ]
     },
     "execution_count": 39,
     "metadata": {},
     "output_type": "execute_result"
    }
   ],
   "source": [
    "index.describe_index_stats()"
   ]
  },
  {
   "cell_type": "code",
   "execution_count": 42,
   "id": "6cdba09e-be5d-40b9-a29d-58af298bf041",
   "metadata": {},
   "outputs": [
    {
     "data": {
      "text/plain": [
       "{'upserted_count': 3}"
      ]
     },
     "execution_count": 42,
     "metadata": {},
     "output_type": "execute_result"
    }
   ],
   "source": [
    "#Now insert 3 vectors in namespace\n",
    "vectors = [[random.random() for _ in range(1536)] for v in range (3)]\n",
    "ids = list('xyz')\n",
    "index.upsert(vectors = zip(ids, vectors), namespace = 'first-namespace')\n"
   ]
  },
  {
   "cell_type": "code",
   "execution_count": 44,
   "id": "052e57ba-4a7f-4784-95cb-afe0322961e8",
   "metadata": {},
   "outputs": [
    {
     "data": {
      "text/plain": [
       "{'upserted_count': 2}"
      ]
     },
     "execution_count": 44,
     "metadata": {},
     "output_type": "execute_result"
    }
   ],
   "source": [
    "#Now insert 2 vectors in namespace\n",
    "vectors = [[random.random() for _ in range(1536)] for v in range (2)]\n",
    "ids = list('qp')\n",
    "index.upsert(vectors = zip(ids,vectors), namespace = 'second-namespace')"
   ]
  },
  {
   "cell_type": "code",
   "execution_count": 45,
   "id": "a6cdfd28-cb84-4ed9-b252-cae642589efe",
   "metadata": {},
   "outputs": [
    {
     "data": {
      "text/plain": [
       "{'dimension': 1536,\n",
       " 'index_fullness': 0.0,\n",
       " 'namespaces': {'': {'vector_count': 5},\n",
       "                'first-namespace': {'vector_count': 3},\n",
       "                'second-namespace': {'vector_count': 2}},\n",
       " 'total_vector_count': 10}"
      ]
     },
     "execution_count": 45,
     "metadata": {},
     "output_type": "execute_result"
    }
   ],
   "source": [
    "index.describe_index_stats()"
   ]
  },
  {
   "cell_type": "code",
   "execution_count": 47,
   "id": "acb783e7-ea50-4230-8005-3c91fd7db4ad",
   "metadata": {},
   "outputs": [
    {
     "data": {
      "text/plain": [
       "{'namespace': '', 'usage': {'read_units': 1}, 'vectors': {}}"
      ]
     },
     "execution_count": 47,
     "metadata": {},
     "output_type": "execute_result"
    }
   ],
   "source": [
    "#Suppose we wanted to fetch vector X \n",
    "index.fetch(ids = ['x'])"
   ]
  },
  {
   "cell_type": "code",
   "execution_count": 49,
   "id": "1a039397-4f2e-46ef-a510-29979b7e3295",
   "metadata": {},
   "outputs": [],
   "source": [
    "#We get empty vector because it will only recognize this when we explicitly specify the namespace also\n",
    "#index.fetch(ids=['x'], namespace = 'first-namespace')"
   ]
  },
  {
   "cell_type": "code",
   "execution_count": 51,
   "id": "6d1c4f4c-fc96-4619-982e-53c9fb551052",
   "metadata": {},
   "outputs": [
    {
     "data": {
      "text/plain": [
       "{}"
      ]
     },
     "execution_count": 51,
     "metadata": {},
     "output_type": "execute_result"
    }
   ],
   "source": [
    "#To delete a vector also we need to explicitly specify its namespace\n",
    "index.delete(ids = ['x'], namespace = 'first-namespace')"
   ]
  },
  {
   "cell_type": "code",
   "execution_count": 52,
   "id": "3dc4fab1-b3c7-495b-9540-0b8ab59eb347",
   "metadata": {},
   "outputs": [
    {
     "data": {
      "text/plain": [
       "{}"
      ]
     },
     "execution_count": 52,
     "metadata": {},
     "output_type": "execute_result"
    }
   ],
   "source": [
    "#to delete all vectors in a namespace\n",
    "index.delete(delete_all = True, namespace = 'first-namespace')"
   ]
  },
  {
   "cell_type": "code",
   "execution_count": 53,
   "id": "ae130321-174d-4c3b-a9f9-95d1ffc866b1",
   "metadata": {},
   "outputs": [
    {
     "data": {
      "text/plain": [
       "{'dimension': 1536,\n",
       " 'index_fullness': 0.0,\n",
       " 'namespaces': {'': {'vector_count': 5},\n",
       "                'second-namespace': {'vector_count': 2}},\n",
       " 'total_vector_count': 7}"
      ]
     },
     "execution_count": 53,
     "metadata": {},
     "output_type": "execute_result"
    }
   ],
   "source": [
    "index.describe_index_stats()"
   ]
  },
  {
   "cell_type": "markdown",
   "id": "cf8a7134-fdd2-4a92-8edf-faf1abb5169f",
   "metadata": {},
   "source": [
    "### Splitting and Embedding Text using Langchain"
   ]
  },
  {
   "cell_type": "code",
   "execution_count": 54,
   "id": "3e994a8a-8b12-446b-a7cb-105ca1e580d0",
   "metadata": {},
   "outputs": [
    {
     "data": {
      "text/plain": [
       "True"
      ]
     },
     "execution_count": 54,
     "metadata": {},
     "output_type": "execute_result"
    }
   ],
   "source": [
    "import os \n",
    "from dotenv import load_dotenv, find_dotenv\n",
    "load_dotenv(find_dotenv(), override = True)"
   ]
  },
  {
   "cell_type": "code",
   "execution_count": 60,
   "id": "11e66b4a-0068-48b6-9882-93fc0371e43b",
   "metadata": {},
   "outputs": [],
   "source": [
    "#When dealing with large peices of text, it is important to split it into chunks and also keep semantically related pieces of text together.\n",
    "#Lets load document available to us i.e a text file named Churchill_speech and split this text file into chunks we'll make use of text_splirrer\n",
    "#RecursiveCharacterTextSplitter\n",
    "from langchain.text_splitter import RecursiveCharacterTextSplitter\n",
    "with open('files/churchill_speech.txt') as f:\n",
    "    churchill_speech = f.read()\n",
    "text_splitter = RecursiveCharacterTextSplitter(\n",
    "    chunk_size = 100,\n",
    "    chunk_overlap = 20,# this is the max overlap betwn chunks needed to maintain continuity between them\n",
    "    length_function = len\n",
    ")"
   ]
  },
  {
   "cell_type": "code",
   "execution_count": 62,
   "id": "5d45df9e-ce2e-42eb-b65c-51d07d9c4ac5",
   "metadata": {},
   "outputs": [
    {
     "name": "stdout",
     "output_type": "stream",
     "text": [
      "page_content='Winston Churchill Speech - We Shall Fight on the Beaches\n",
      "We Shall Fight on the Beaches\n",
      "June 4, 1940'\n"
     ]
    }
   ],
   "source": [
    "chunks = text_splitter.create_documents([churchill_speech])\n",
    "print(chunks[0])"
   ]
  },
  {
   "cell_type": "code",
   "execution_count": 66,
   "id": "10e29771-dadc-4e00-9bc7-76dc209b0161",
   "metadata": {},
   "outputs": [
    {
     "name": "stdout",
     "output_type": "stream",
     "text": [
      "penetration were realized and when a new French Generalissimo, General Weygand, assumed\n"
     ]
    }
   ],
   "source": [
    "#To get text only\n",
    "print(chunks[10].page_content)"
   ]
  },
  {
   "cell_type": "code",
   "execution_count": 68,
   "id": "b3080554-7c13-4506-b99e-02c9cfc29704",
   "metadata": {},
   "outputs": [
    {
     "name": "stdout",
     "output_type": "stream",
     "text": [
      "We have 300 chunks\n"
     ]
    }
   ],
   "source": [
    "#Let's check how many chunks we have \n",
    "print(f'We have {len(chunks)} chunks')"
   ]
  },
  {
   "cell_type": "markdown",
   "id": "adeff080-92dd-4dde-b250-59fd2486f4db",
   "metadata": {},
   "source": [
    "### Embedding Cost"
   ]
  },
  {
   "cell_type": "code",
   "execution_count": 70,
   "id": "22e8b49f-7436-4389-a63f-043ca8eea470",
   "metadata": {},
   "outputs": [
    {
     "name": "stdout",
     "output_type": "stream",
     "text": [
      "Total tokens : 4820\n",
      "Embedding cost in USD : 0.001928\n"
     ]
    }
   ],
   "source": [
    "#Now we'll be using OpenAI's text Embedding model ADA-002 which is a good idea to calculate the embedding cost\n",
    "def print_embedding_cost(texts):\n",
    "    import tiktoken\n",
    "    enc = tiktoken.encoding_for_model('text-embedding-ada-002')\n",
    "    total_tokens = sum([len(enc.encode(page.page_content)) for page in texts])\n",
    "\n",
    "    print(f'Total tokens : {total_tokens}')\n",
    "    print(f'Embedding cost in USD : {total_tokens/1000 * 0.0004:.6f}')\n",
    "\n",
    "print_embedding_cost(chunks)"
   ]
  },
  {
   "cell_type": "code",
   "execution_count": 73,
   "id": "3679684e-0a3f-42de-bf33-b65b178cc48e",
   "metadata": {},
   "outputs": [
    {
     "data": {
      "text/plain": [
       "[-0.044567573656022125,\n",
       " -0.0378875395789288,\n",
       " -0.0029496059181736843,\n",
       " -0.007993097388439452,\n",
       " 0.015743980127830393,\n",
       " 0.022589743056483196,\n",
       " -0.028581378879143218,\n",
       " -0.009650358895679658,\n",
       " 0.0010493331318405562,\n",
       " 0.007336567129750246,\n",
       " 0.007789127035119314,\n",
       " 0.0327882728296835,\n",
       " 0.00741305618686828,\n",
       " -0.011696439194526596,\n",
       " 0.006374081108250191,\n",
       " -0.005386098268716172,\n",
       " 0.013168851797818924,\n",
       " -0.0024986397385547204,\n",
       " 0.013589540447814895,\n",
       " -0.01096341941305807,\n",
       " -0.008171572320709483,\n",
       " -0.026847628780446265,\n",
       " 0.029626728860761727,\n",
       " -0.0038658801793480554,\n",
       " -0.014456415497163373,\n",
       " -0.018523080208145856,\n",
       " 0.010835938116855967,\n",
       " -0.018612315811635728,\n",
       " 0.00305477831350332,\n",
       " -0.014341682144316964,\n",
       " 0.007081604071684753,\n",
       " -0.008560391112316214,\n",
       " -0.01650886976768816,\n",
       " 0.005150257591345508,\n",
       " -0.01833185733252013,\n",
       " -0.023851811800438823,\n",
       " -0.022373024294146077,\n",
       " -0.008745239084941521,\n",
       " 0.02267898052261821,\n",
       " -0.012671672693721062,\n",
       " 0.013615037265848859,\n",
       " 0.004605273699663786,\n",
       " 0.008751613056619369,\n",
       " 0.00296554131302959,\n",
       " -0.02789297876206477,\n",
       " 0.022424017930214004,\n",
       " 0.020601030365382033,\n",
       " -0.009905321488083867,\n",
       " -0.0159989427202346,\n",
       " 0.04421062751677234,\n",
       " 0.013806259210152015,\n",
       " 0.019160488551801517,\n",
       " -0.01867605739105935,\n",
       " -0.03783654408021573,\n",
       " -0.016916811405651006,\n",
       " 0.009134057876548253,\n",
       " -0.021799357529914038,\n",
       " 0.019670413736609934,\n",
       " -0.006288031093615385,\n",
       " -0.022016076292251156,\n",
       " -0.0041590877659725654,\n",
       " -0.00986070368633893,\n",
       " -0.011479720432189477,\n",
       " -0.01150521631890087,\n",
       " -0.001461258036440772,\n",
       " -0.009975437039185337,\n",
       " -0.03406308951699483,\n",
       " 0.03393560635814758,\n",
       " -0.0010883742904439827,\n",
       " 0.01100166417444773,\n",
       " 0.03227834764487508,\n",
       " 0.027332059941188428,\n",
       " 0.00450010130433415,\n",
       " 0.01150521631890087,\n",
       " 0.014660386316144795,\n",
       " -0.011409604881088005,\n",
       " -0.01978514708945634,\n",
       " -0.01700604887178602,\n",
       " 0.00407303775133776,\n",
       " 0.011760179842627649,\n",
       " 0.018625065617636567,\n",
       " -0.017235515577478835,\n",
       " 0.0010867807975245207,\n",
       " 0.010529981888383833,\n",
       " 0.030111158158858748,\n",
       " 0.005290487296564594,\n",
       " 0.008522146350926555,\n",
       " 0.026618162074753447,\n",
       " 0.0028555882061109253,\n",
       " -0.02287020339824394,\n",
       " -0.010179407858166761,\n",
       " -0.00021831226980849653,\n",
       " 0.005140696168167451,\n",
       " 0.0049239774058303315,\n",
       " -0.012658924750365366,\n",
       " 0.02090698659385417,\n",
       " -0.015718484241119,\n",
       " 0.026490680778551344,\n",
       " 0.01724826352083453,\n",
       " -0.024654945270363677,\n",
       " 0.02717908089562979,\n",
       " 0.005392472706055306,\n",
       " -0.015093823840819035,\n",
       " -0.00730469680569972,\n",
       " -0.011192886118750887,\n",
       " -0.0012636615383831613,\n",
       " -0.014290689439571609,\n",
       " -0.007515041596358991,\n",
       " -0.006495188432774446,\n",
       " -0.006648166547010514,\n",
       " -0.014685883134178759,\n",
       " 0.011046282907515238,\n",
       " 0.014099467495268454,\n",
       " -0.03857593969600724,\n",
       " 0.0007848087088046659,\n",
       " -0.04275733589719099,\n",
       " -0.0042260158655738275,\n",
       " -0.012977628922193197,\n",
       " 0.014443667553807677,\n",
       " -0.0357203519555576,\n",
       " 0.010682960002619899,\n",
       " -0.001497909072080327,\n",
       " 0.017630707409440845,\n",
       " -0.005290487296564594,\n",
       " 0.003355953597555783,\n",
       " 0.015986194776878904,\n",
       " -0.021098207606834753,\n",
       " -0.014979090487972626,\n",
       " 0.019836140725524268,\n",
       " 0.01518306130695405,\n",
       " 0.03543988975115172,\n",
       " 0.027994964171555482,\n",
       " 0.030340626727196708,\n",
       " -0.03855044380929585,\n",
       " -0.022908447228311028,\n",
       " 0.02717908089562979,\n",
       " -0.017745440762287252,\n",
       " 0.007559660329426499,\n",
       " -0.011320368346275561,\n",
       " -5.0170990837161114e-05,\n",
       " 0.012352969453215802,\n",
       " 0.0400547234770097,\n",
       " -0.014736875838924116,\n",
       " -0.013984734142422045,\n",
       " -0.000265121924673028,\n",
       " 0.023227151400138858,\n",
       " 0.028861839220903962,\n",
       " 0.008515772379248707,\n",
       " 0.0031535765043244645,\n",
       " -0.009847954811660663,\n",
       " 0.009376273456919335,\n",
       " -0.006705533223433718,\n",
       " 0.02046079926317909,\n",
       " -0.0008122969273266713,\n",
       " 0.02301043263780174,\n",
       " 0.013474807094968488,\n",
       " -0.013589540447814895,\n",
       " 0.026618162074753447,\n",
       " -0.01307961433168391,\n",
       " -0.0007354096133940936,\n",
       " 0.040488161001683946,\n",
       " 0.030213143568349463,\n",
       " 0.030493603910110204,\n",
       " 0.010995290202769882,\n",
       " 0.04181397318770834,\n",
       " 0.013207095627886013,\n",
       " 0.024094026449487334,\n",
       " 0.00878985781800903,\n",
       " -0.010988915299769463,\n",
       " 0.025840524491539986,\n",
       " 0.012301976748470446,\n",
       " 0.010753074622398799,\n",
       " -0.007871990063915197,\n",
       " 0.0028651493964583405,\n",
       " -0.003005379101677426,\n",
       " 0.03429255622268764,\n",
       " 0.022513253533703877,\n",
       " -0.0028619624106194165,\n",
       " -0.0028412465370051244,\n",
       " -0.0035535502120287153,\n",
       " -0.03179391462148778,\n",
       " 0.017477730226527346,\n",
       " 0.016113676073081007,\n",
       " 0.00042865695860436155,\n",
       " -0.013653282027238518,\n",
       " 0.016559863403756085,\n",
       " 0.005271364915869764,\n",
       " 0.004257886189624353,\n",
       " 0.01657261134711178,\n",
       " -0.013627785209204555,\n",
       " 0.003620478078799334,\n",
       " 0.01714627811134382,\n",
       " 0.019491940666985043,\n",
       " -0.007119848367413127,\n",
       " -0.6612726426291364,\n",
       " -0.021021719946700577,\n",
       " 0.0012166526823517818,\n",
       " -0.011473345529189058,\n",
       " 0.017312003237613012,\n",
       " 0.01021765168823385,\n",
       " 0.002328133202204571,\n",
       " 0.004267447147141125,\n",
       " -0.016215661482571718,\n",
       " 0.009701351600425014,\n",
       " -0.009663106839035355,\n",
       " 0.007738134330373959,\n",
       " 0.0018883214730218414,\n",
       " -0.016381388471486055,\n",
       " -0.007298322834021872,\n",
       " -0.022666232579262514,\n",
       " -0.005529515425435467,\n",
       " -0.006941374366465667,\n",
       " 0.020511792899247018,\n",
       " 0.003591794740587732,\n",
       " 0.00796760150172806,\n",
       " 0.022220047111232582,\n",
       " -0.006743777984823378,\n",
       " 0.014379926905706624,\n",
       " 0.012104379901166872,\n",
       " -0.007502293187342009,\n",
       " -0.0036109168884519193,\n",
       " -0.03477698552078466,\n",
       " -0.017592463579373756,\n",
       " 0.010651089212908088,\n",
       " -0.036332260687211584,\n",
       " 0.018459338628722233,\n",
       " 0.007476797300630617,\n",
       " 0.0016237971081936116,\n",
       " 0.03187040600691224,\n",
       " -0.02410677439284303,\n",
       " -0.025738539082049275,\n",
       " 0.006641792575332666,\n",
       " 0.013117859093073569,\n",
       " 0.01114826738568338,\n",
       " 0.013602289322493162,\n",
       " -0.01653436565439955,\n",
       " 0.011294871528241598,\n",
       " 0.001971184501817723,\n",
       " -0.01958117627047492,\n",
       " 0.024094026449487334,\n",
       " 0.016929559349006702,\n",
       " -0.01457114885000978,\n",
       " -0.0007868006331616541,\n",
       " -0.006966870718838345,\n",
       " -0.00471682006667127,\n",
       " -0.01253781742584111,\n",
       " 0.022487757646992484,\n",
       " 0.022513253533703877,\n",
       " 0.0038850023272122424,\n",
       " -0.006807518632924429,\n",
       " 0.01164544648978124,\n",
       " -0.02550907237635646,\n",
       " -0.0004282585562706657,\n",
       " 0.009765092248526067,\n",
       " -0.008203442179098724,\n",
       " 0.012136250690878684,\n",
       " -0.029193291336087487,\n",
       " -0.019236976211935694,\n",
       " -0.011830294462406549,\n",
       " -0.00035515581712564054,\n",
       " -0.028606876628499752,\n",
       " 0.01200239449167616,\n",
       " 0.033655147879031976,\n",
       " 0.002012616016215664,\n",
       " -0.00728557442500489,\n",
       " 0.01857407198156864,\n",
       " -0.014685883134178759,\n",
       " -0.01353854774306954,\n",
       " 0.00789111197894874,\n",
       " 0.0034483778166990798,\n",
       " 0.013462059151612792,\n",
       " -0.01439267484906232,\n",
       " -0.0025480389503806143,\n",
       " -0.021773861643202646,\n",
       " 0.001952062353953536,\n",
       " -0.01890552409675217,\n",
       " -0.02267898052261821,\n",
       " 0.021238438709037695,\n",
       " 0.02626121407285853,\n",
       " -0.016304898948706736,\n",
       " -0.017605211522729453,\n",
       " 0.002954386629762713,\n",
       " 0.01171556110956014,\n",
       " -0.005500832087223865,\n",
       " 0.01857407198156864,\n",
       " 0.0357203519555576,\n",
       " 0.011454223614155514,\n",
       " -0.011199260090428735,\n",
       " -0.006492001446935522,\n",
       " 0.011989646548320463,\n",
       " 0.014022977972489133,\n",
       " -0.0016349517914604887,\n",
       " 0.01000093292589673,\n",
       " -0.01610092812972531,\n",
       " 0.002328133202204571,\n",
       " 0.006750151956501226,\n",
       " 0.002731293662917103,\n",
       " 0.007387559834495602,\n",
       " 0.005402033663572078,\n",
       " -0.002272359785870186,\n",
       " -0.015272297841766494,\n",
       " 0.016343144641418967,\n",
       " 0.00993081830611783,\n",
       " -0.010784945412110612,\n",
       " 0.013920992562998422,\n",
       " 0.007349315538767227,\n",
       " -0.023979293096640927,\n",
       " 0.01865056150434796,\n",
       " 0.012550565369196806,\n",
       " -0.02000186585179346,\n",
       " 0.008687872408518317,\n",
       " 0.023928299460573,\n",
       " -0.0029735087776269,\n",
       " -0.009988184982541034,\n",
       " 0.010262270421301357,\n",
       " -0.016496121824332462,\n",
       " 0.008904591170855437,\n",
       " -0.03513393538532473,\n",
       " 0.011664568404814784,\n",
       " 0.02883634333419257,\n",
       " 0.011945027815252956,\n",
       " -0.006845762928652803,\n",
       " 0.019058503142310806,\n",
       " 0.012952133035481804,\n",
       " 0.006750151956501226,\n",
       " 0.00649837541861337,\n",
       " 0.022895699284955332,\n",
       " 0.007648897329900229,\n",
       " 0.013258088332631368,\n",
       " 0.014137711325335542,\n",
       " 0.012639802835331821,\n",
       " -0.007189963452853312,\n",
       " 0.015629246774983986,\n",
       " -0.02626121407285853,\n",
       " -0.023061424411224524,\n",
       " 0.015667490605051074,\n",
       " -0.0011274155654627306,\n",
       " 0.0028014085155266457,\n",
       " -0.018013153160692297,\n",
       " -0.02558556189913578,\n",
       " -0.024846168145989406,\n",
       " -0.03875441462827727,\n",
       " -0.030136655908215286,\n",
       " 0.014367178962350928,\n",
       " 0.022487757646992484,\n",
       " -0.01803864904740369,\n",
       " -0.014877105078481915,\n",
       " -0.0181406344568944,\n",
       " 0.0015839590867151327,\n",
       " -0.00041829908000487633,\n",
       " -0.0063453977700385885,\n",
       " -0.008700620351874013,\n",
       " 0.0024874850552878435,\n",
       " -0.0422219111003809,\n",
       " 0.007011488986244567,\n",
       " 0.003292212949454731,\n",
       " -0.02265348463590682,\n",
       " 0.004560654966596279,\n",
       " 0.015603749956950021,\n",
       " 0.017707196932220164,\n",
       " -0.00035734692809756156,\n",
       " 0.03786203996692712,\n",
       " 0.005516767016418485,\n",
       " -0.027994964171555482,\n",
       " 0.010523607916705984,\n",
       " -0.005679306088171325,\n",
       " -6.842177365857201e-05,\n",
       " 0.031207499913900042,\n",
       " 0.003263529611243129,\n",
       " 0.005045085196015873,\n",
       " -0.017375744817036635,\n",
       " -0.02321440345678316,\n",
       " 0.03248231846385651,\n",
       " 0.0050355242384991,\n",
       " -0.0020699829254695106,\n",
       " -0.019236976211935694,\n",
       " -0.010421622507215273,\n",
       " -0.0158587134806768,\n",
       " 0.005025962815321043,\n",
       " -0.015833217593965408,\n",
       " 0.03151345614237218,\n",
       " -0.006214729022336276,\n",
       " -0.015718484241119,\n",
       " 0.006584425898909462,\n",
       " 0.0023472553500687578,\n",
       " -0.0024763303720209667,\n",
       " 0.0038754413696954703,\n",
       " 0.007789127035119314,\n",
       " 0.0012979222182282015,\n",
       " 0.014532905019942692,\n",
       " -0.01972140737267786,\n",
       " 0.0022038384261801056,\n",
       " 0.015986194776878904,\n",
       " 0.016253907175283952,\n",
       " 0.00669915925175587,\n",
       " 0.01074670065072095,\n",
       " 0.02707709548613908,\n",
       " -0.009382647428597183,\n",
       " 0.03704616041629171,\n",
       " -0.014175956086725202,\n",
       " 0.002665959289065946,\n",
       " -0.026924118303225584,\n",
       " 0.05527603233932113,\n",
       " 0.01039612662050388,\n",
       " 0.002034925382749418,\n",
       " -0.009854329714661082,\n",
       " -0.04398116081107953,\n",
       " -0.002042893080177371,\n",
       " -0.00206360872096102,\n",
       " 0.016878565712938772,\n",
       " -0.0019265660015808583,\n",
       " -0.006737403547484244,\n",
       " -0.004277008570319183,\n",
       " -0.005386098268716172,\n",
       " 0.0008429722481029222,\n",
       " 0.007712637978001281,\n",
       " -0.012021516406709704,\n",
       " 0.006966870718838345,\n",
       " -0.04421062751677234,\n",
       " 0.02893832874368328,\n",
       " -0.008879095284144045,\n",
       " -0.0047008846718153635,\n",
       " -0.0067756483088739035,\n",
       " -0.0014030946135578373,\n",
       " 0.00231379153309877,\n",
       " -0.011154642288683798,\n",
       " 0.009019324523701844,\n",
       " 0.007776379091763618,\n",
       " 0.005698428468866154,\n",
       " 0.005510393044740637,\n",
       " 0.00464351799539216,\n",
       " -0.025470828546289372,\n",
       " 0.0405901482738198,\n",
       " -0.012748162216500382,\n",
       " 0.028555882992431825,\n",
       " 0.008260808855521927,\n",
       " 0.008783483846331182,\n",
       " -0.013564044561103503,\n",
       " 0.0014811770471800116,\n",
       " -0.008267182827199775,\n",
       " 0.022908447228311028,\n",
       " 0.0018644187299839468,\n",
       " -0.016496121824332462,\n",
       " 0.014481912315197337,\n",
       " -0.006450570165368224,\n",
       " 0.005609191468392425,\n",
       " -0.01782193028506657,\n",
       " -0.003263529611243129,\n",
       " 0.004417238275538269,\n",
       " -0.0007915811701277008,\n",
       " -0.004990905505431593,\n",
       " 0.0004904058860752378,\n",
       " 0.016202913539216022,\n",
       " 0.03370613965245476,\n",
       " 0.0025655676053253393,\n",
       " 0.004821992462000905,\n",
       " 0.033272702127780523,\n",
       " 0.002380719167038746,\n",
       " -0.0031838535682861715,\n",
       " -0.004834740405356601,\n",
       " 0.0018771669061702857,\n",
       " 0.027128089122207006,\n",
       " -0.01246770280606221,\n",
       " -0.027459541237390535,\n",
       " -0.013615037265848859,\n",
       " -0.006380455079928039,\n",
       " 0.011422352824443701,\n",
       " -0.018701553277770743,\n",
       " 0.008656001618806506,\n",
       " 0.007738134330373959,\n",
       " 0.03248231846385651,\n",
       " 0.003594981726426656,\n",
       " -0.0064601311228849965,\n",
       " 0.0295757352246938,\n",
       " -0.015565506126882933,\n",
       " -0.0338846145847248,\n",
       " -0.0004179006776711805,\n",
       " 0.036740202325174436,\n",
       " -0.021225690765682,\n",
       " -0.013449311208257096,\n",
       " -0.011670942376492632,\n",
       " 0.018446590685366537,\n",
       " -0.00924879122939466,\n",
       " -0.0008748426303611088,\n",
       " 0.004560654966596279,\n",
       " 0.030570093432889522,\n",
       " -0.02000186585179346,\n",
       " -0.019389955257494332,\n",
       " -0.01775819056828809,\n",
       " -0.014226948791470557,\n",
       " 0.02111095555019045,\n",
       " -0.019670413736609934,\n",
       " -0.007330193158072398,\n",
       " -0.020486297012535626,\n",
       " -0.001020649677213633,\n",
       " 0.009898947516406019,\n",
       " 0.006603547813943006,\n",
       " -0.010198529773200305,\n",
       " 0.01849758245878932,\n",
       " 0.005150257591345508,\n",
       " -0.0201420969539964,\n",
       " 9.157761782217178e-05,\n",
       " 0.011345864232986953,\n",
       " -0.004034793455609385,\n",
       " 0.019899880442302748,\n",
       " -0.0005664964535480845,\n",
       " -0.014545652963298388,\n",
       " 0.0041144694985663435,\n",
       " 0.0026675530148160508,\n",
       " 0.0018484834515433625,\n",
       " -0.017809182341710875,\n",
       " -0.01518306130695405,\n",
       " 0.0189437697894644,\n",
       " 0.00262612150041811,\n",
       " -0.0012644582848428923,\n",
       " -0.02610823688994503,\n",
       " -0.022908447228311028,\n",
       " -0.017057040645208806,\n",
       " 0.12330022410117493,\n",
       " 0.01146697155751121,\n",
       " 0.008554017140638366,\n",
       " 0.0021018532495200365,\n",
       " 0.029958180975945253,\n",
       " 0.010702081917653443,\n",
       " -0.015348787364545813,\n",
       " -0.007368437919462058,\n",
       " 0.008477527617859047,\n",
       " 0.004261073175463277,\n",
       " -0.004461856542944491,\n",
       " 0.008528520322604403,\n",
       " -0.0035439890216813004,\n",
       " -0.004270634132980049,\n",
       " -0.011639071586780821,\n",
       " -0.011243878823496242,\n",
       " -0.02349486193589876,\n",
       " 0.0019472817587798286,\n",
       " -0.008381916180046182,\n",
       " -0.0060298805840496815,\n",
       " -0.010427996478893121,\n",
       " 0.020511792899247018,\n",
       " -0.007916608796982704,\n",
       " 0.009879825601372474,\n",
       " -0.011517964262256566,\n",
       " -0.02967772063418451,\n",
       " 0.010759448594076649,\n",
       " 0.01975965120274495,\n",
       " 0.00967585478239105,\n",
       " 0.006307153008648929,\n",
       " -0.0007234581836674856,\n",
       " 0.009605740162612151,\n",
       " 0.010740326679043103,\n",
       " 0.006504749855952504,\n",
       " 0.008050464064862655,\n",
       " 0.0095419995145111,\n",
       " -0.014877105078481915,\n",
       " 0.016062684299658223,\n",
       " 0.017439486396460258,\n",
       " -0.023176159626716073,\n",
       " -0.029958180975945253,\n",
       " -0.02515212437446154,\n",
       " -0.0034483778166990798,\n",
       " -0.021238438709037695,\n",
       " 0.01851033226479016,\n",
       " 0.007253704100954364,\n",
       " 0.0024795175906905335,\n",
       " 0.02985619556645454,\n",
       " -0.023482113992543064,\n",
       " -0.0012787999539486932,\n",
       " 0.012346594550215383,\n",
       " 0.011084526737582326,\n",
       " -0.015081075897463339,\n",
       " -0.019644917849898542,\n",
       " -0.03847395242387139,\n",
       " 0.029601232974050335,\n",
       " 0.01393374143767669,\n",
       " 0.04449108599588795,\n",
       " 0.015603749956950021,\n",
       " 0.010517233945028136,\n",
       " -0.02260249099983889,\n",
       " -0.021531645131508993,\n",
       " -0.013423814390223133,\n",
       " -0.006479253503579826,\n",
       " -0.006539807165841955,\n",
       " -0.004659453390248066,\n",
       " -0.0237880702210152,\n",
       " -0.020078355374572778,\n",
       " -0.008592260970705454,\n",
       " -0.017235515577478835,\n",
       " -0.013028621626938552,\n",
       " -0.0030468108489060098,\n",
       " -0.006686410842738888,\n",
       " 0.010134789125099254,\n",
       " 0.030544595683532988,\n",
       " -0.013500303913002451,\n",
       " 0.007464048891613635,\n",
       " -0.014341682144316964,\n",
       " -0.011702813166204444,\n",
       " -0.013908244619642726,\n",
       " -0.022411268124213166,\n",
       " -0.011881287167151904,\n",
       " -0.035694852343555926,\n",
       " -0.032023385052470876,\n",
       " -0.008796231789686878,\n",
       " 0.028887335107615354,\n",
       " 0.004990905505431593,\n",
       " -0.022551499226416107,\n",
       " -0.010651089212908088,\n",
       " 0.040641140047242584,\n",
       " 0.001488347881732912,\n",
       " 0.011116397527294139,\n",
       " 0.003626852050477182,\n",
       " -0.004388554937326667,\n",
       " 0.005532702411274391,\n",
       " -0.002356816540416173,\n",
       " 0.0018612316277297014,\n",
       " -0.004764625785577702,\n",
       " -0.013653282027238518,\n",
       " 0.02239852018085747,\n",
       " 0.013946489381032386,\n",
       " -0.03589882316253735,\n",
       " -0.016445128188264536,\n",
       " -0.013385570560156042,\n",
       " -0.008987454665312604,\n",
       " 0.0038308226366279624,\n",
       " 0.003320896287666333,\n",
       " 0.015565506126882933,\n",
       " -0.025011893272258598,\n",
       " -0.0027392613603450557,\n",
       " 0.017541471805950972,\n",
       " -0.014290689439571609,\n",
       " 0.010670212059264203,\n",
       " 0.017732692818931556,\n",
       " -0.013653282027238518,\n",
       " 0.03314522269422356,\n",
       " 0.0134365632649014,\n",
       " 0.020052859487861386,\n",
       " -0.0067883962522295995,\n",
       " 0.010600096508162732,\n",
       " 0.02131492636917187,\n",
       " -0.01986163661223566,\n",
       " 0.016381388471486055,\n",
       " -0.009694977628747166,\n",
       " -0.021404163835306887,\n",
       " 0.015234054011699406,\n",
       " -0.016406884358197447,\n",
       " -0.03258430201070208,\n",
       " -0.02025683030684281,\n",
       " -0.013920992562998422,\n",
       " -0.01107177879422663,\n",
       " 0.00024281264545076515,\n",
       " 0.004104908075388286,\n",
       " -0.01050448600167244,\n",
       " -0.016062684299658223,\n",
       " 0.008075960882896619,\n",
       " -0.0018994761562887183,\n",
       " -0.00024101993681254004,\n",
       " -0.014800616487025168,\n",
       " -0.021404163835306887,\n",
       " -0.011243878823496242,\n",
       " 0.002642056662443373,\n",
       " -0.013474807094968488,\n",
       " -0.018854532323329384,\n",
       " -0.00334001843553052,\n",
       " -0.024756930679854388,\n",
       " 0.0021241626160537906,\n",
       " -0.017018796815141717,\n",
       " 0.014341682144316964,\n",
       " 0.007087978043362601,\n",
       " -0.011938653843575108,\n",
       " 0.0076871416256286025,\n",
       " -0.00010626788533197783,\n",
       " 0.03079956013858234,\n",
       " -0.012129875787878264,\n",
       " -0.02914229770001956,\n",
       " -0.024552959860872966,\n",
       " 0.024731434793142996,\n",
       " 0.020690267831517048,\n",
       " 0.04497551529398497,\n",
       " -0.00732381918639455,\n",
       " 0.00971409954378071,\n",
       " 0.010772196537432345,\n",
       " 0.007476797300630617,\n",
       " 0.0030978033208207225,\n",
       " -0.030595589319600915,\n",
       " 0.0008445657410223842,\n",
       " -0.010778571440432764,\n",
       " -0.026618162074753447,\n",
       " -0.021773861643202646,\n",
       " 0.0303661226139081,\n",
       " 0.008662376521806925,\n",
       " 0.012875643512702485,\n",
       " 0.009153180722904369,\n",
       " 0.014226948791470557,\n",
       " 0.0065174977993082,\n",
       " 0.005150257591345508,\n",
       " 0.00789748688194916,\n",
       " -0.009350776638885372,\n",
       " -0.01575672807118609,\n",
       " -0.01954293244040783,\n",
       " -0.018586819924924336,\n",
       " -0.008904591170855437,\n",
       " -0.008745239084941521,\n",
       " -0.0006405951548716038,\n",
       " -0.02633770359563785,\n",
       " 0.0373521147821187,\n",
       " 0.008987454665312604,\n",
       " -0.0032762775545988254,\n",
       " -0.00796760150172806,\n",
       " 0.010211277716556002,\n",
       " 0.004261073175463277,\n",
       " 0.004098534103710438,\n",
       " 0.0002593454255284871,\n",
       " -0.021799357529914038,\n",
       " -0.012206365310657583,\n",
       " -0.019950874078370675,\n",
       " -0.010306889154368865,\n",
       " -0.01603718841294683,\n",
       " 0.01018578182984461,\n",
       " 0.03220185625945062,\n",
       " 0.0060235066123718334,\n",
       " 0.0007445723140963215,\n",
       " 0.005513580030579561,\n",
       " 0.006737403547484244,\n",
       " 0.0214934013014419,\n",
       " -0.012129875787878264,\n",
       " 0.007151719157124938,\n",
       " -0.006622670194637836,\n",
       " -0.00917867660961576,\n",
       " -0.013462059151612792,\n",
       " -0.005790852455178809,\n",
       " 0.006259347755403783,\n",
       " -0.042068935780112546,\n",
       " 0.011479720432189477,\n",
       " 0.005841845159924164,\n",
       " -0.00046769820451927907,\n",
       " -0.0004995685867774657,\n",
       " 0.018344605275875826,\n",
       " -0.01235934342489365,\n",
       " 0.011282123584885902,\n",
       " -0.012142624662556532,\n",
       " -0.001117854491530637,\n",
       " -0.010326011069402409,\n",
       " 0.029703218383541046,\n",
       " 0.021098207606834753,\n",
       " 0.014124963381979846,\n",
       " -0.029346268519000983,\n",
       " 0.027561526646881246,\n",
       " 0.012952133035481804,\n",
       " 0.0024046220264919618,\n",
       " 0.030136655908215286,\n",
       " 0.007508667624681143,\n",
       " 0.011957775758608652,\n",
       " 0.00835642029333479,\n",
       " -0.028530387105720433,\n",
       " 0.04441459833575377,\n",
       " 0.003107364511168138,\n",
       " -0.013729770618695267,\n",
       " 0.02400478898335232,\n",
       " 0.030825056025293732,\n",
       " -0.007291948862344024,\n",
       " -0.006998741042888871,\n",
       " -0.019797895032812037,\n",
       " -0.031283989436679364,\n",
       " 0.036561727392904406,\n",
       " -0.033272702127780523,\n",
       " -0.016585359290467477,\n",
       " -0.018242619866385115,\n",
       " -0.019504688610340742,\n",
       " -0.019020257449598576,\n",
       " -0.007483171272308465,\n",
       " -0.0292952767455782,\n",
       " 0.015170313363598354,\n",
       " 0.013831756028185978,\n",
       " 0.006756525928179074,\n",
       " -0.00989257354472817,\n",
       " -0.004190958090023091,\n",
       " 0.0051247612389728305,\n",
       " 0.0084711536461812,\n",
       " -0.013959237324388082,\n",
       " 0.007993097388439452,\n",
       " -0.03518492715874751,\n",
       " -0.029346268519000983,\n",
       " 0.03079956013858234,\n",
       " 0.010198529773200305,\n",
       " 0.0013895496909117674,\n",
       " -0.0077955010067971625,\n",
       " 0.015425275956002562,\n",
       " 0.021021719946700577,\n",
       " -0.024527463974161574,\n",
       " -0.017911167751201586,\n",
       " -0.015285046716444761,\n",
       " 0.010459867268604933,\n",
       " 0.009127683904870405,\n",
       " -0.01514481654556439,\n",
       " 0.006195606641641445,\n",
       " 0.0005123167629638047,\n",
       " 0.0025560064149779244,\n",
       " 0.002258018116764385,\n",
       " 0.0076807676539507545,\n",
       " 0.022793713875464618,\n",
       " -0.0032029757161503585,\n",
       " -0.026567170301330663,\n",
       " 0.008706994323551862,\n",
       " -0.0038180744604416235,\n",
       " 0.012512321539129718,\n",
       " 0.00335914081622535,\n",
       " -0.017477730226527346,\n",
       " -0.021850349303336822,\n",
       " -0.026592666188042055,\n",
       " 0.002635682457934882,\n",
       " -0.019734155316033557,\n",
       " 0.02893832874368328,\n",
       " 0.002981476475054853,\n",
       " 0.005290487296564594,\n",
       " -0.00842653491311369,\n",
       " 0.03798952312577437,\n",
       " -0.02596800578774209,\n",
       " 0.0079994713601173,\n",
       " 0.022130809645097563,\n",
       " 0.005943830569414876,\n",
       " -0.001143350843903315,\n",
       " 0.014124963381979846,\n",
       " 0.005312796663098348,\n",
       " -0.01407397067723449,\n",
       " 0.016381388471486055,\n",
       " -0.02360959528874517,\n",
       " -0.0280714536943348,\n",
       " -0.011486094403867326,\n",
       " -0.008617757788739418,\n",
       " 0.0140357268471674,\n",
       " -0.0014015011206383752,\n",
       " -0.01942819908756142,\n",
       " 0.014877105078481915,\n",
       " 0.017197269884766605,\n",
       " 0.016062684299658223,\n",
       " 0.0050100278861264225,\n",
       " -0.027128089122207006,\n",
       " 0.006476066517740902,\n",
       " 0.021174697129614072,\n",
       " -0.0015783818614970157,\n",
       " 0.01779643439835518,\n",
       " -0.025139376431105843,\n",
       " 0.030723070615803018,\n",
       " 0.008203442179098724,\n",
       " 0.0015353567377642914,\n",
       " 0.018242619866385115,\n",
       " 0.008541268265960099,\n",
       " -0.004790122137950379,\n",
       " 0.023163409820715235,\n",
       " -0.005290487296564594,\n",
       " 0.011396856937732309,\n",
       " -0.022895699284955332,\n",
       " -0.01718452194141091,\n",
       " -0.01575672807118609,\n",
       " -0.0012198397846060274,\n",
       " 0.006558929546536784,\n",
       " 0.024552959860872966,\n",
       " 0.015450772774036526,\n",
       " -0.003261935885493024,\n",
       " 0.01835735321923152,\n",
       " 0.02158263876757692,\n",
       " -0.022831957705531706,\n",
       " -0.005433903987622604,\n",
       " -0.020231332557486277,\n",
       " -0.011065404822548782,\n",
       " 0.017490478169883042,\n",
       " -0.023265395230205946,\n",
       " -0.013117859093073569,\n",
       " 0.012614306017297858,\n",
       " 0.03972327322447132,\n",
       " 0.00719633742453116,\n",
       " 0.018841784379973688,\n",
       " -0.022156305531808956,\n",
       " 0.007138970748107956,\n",
       " -0.013462059151612792,\n",
       " 0.007604278596832721,\n",
       " -0.011301245499919446,\n",
       " -0.004044354413126157,\n",
       " 0.02911680181330817,\n",
       " 0.00889821719917759,\n",
       " 0.017783686454999482,\n",
       " 0.017108034281276732,\n",
       " -0.011078152765904478,\n",
       " 0.0035439890216813004,\n",
       " 0.00451603623352877,\n",
       " -0.016598107233823173,\n",
       " 0.00047964960514205665,\n",
       " -0.020983474253988346,\n",
       " -0.01817887828696149,\n",
       " 0.020078355374572778,\n",
       " -0.024119522336198726,\n",
       " 0.019874384555591356,\n",
       " 0.02236027635079038,\n",
       " 0.013372821685477775,\n",
       " -0.00821619012245442,\n",
       " 0.012340220578537535,\n",
       " -0.0058769029354749005,\n",
       " -0.0054434654108006615,\n",
       " -0.0029496059181736843,\n",
       " -0.03148796025566079,\n",
       " -0.006189232669963597,\n",
       " 0.024565707804228662,\n",
       " -0.004984531533753745,\n",
       " -0.04553643597750645,\n",
       " 0.0015656336853106768,\n",
       " 0.0024253379001062535,\n",
       " 0.005870528498135766,\n",
       " -0.005774917525984189,\n",
       " -0.01371702267533957,\n",
       " 0.024043032813419407,\n",
       " -0.015501765478781881,\n",
       " 0.006960496281499211,\n",
       " -0.017630707409440845,\n",
       " -0.02572579113869358,\n",
       " 0.00011373750708323503,\n",
       " -0.019389955257494332,\n",
       " 0.041864964961131124,\n",
       " 0.02610823688994503,\n",
       " -0.0035248668738171135,\n",
       " -0.007266452509971346,\n",
       " -0.0005756592124579733,\n",
       " 0.0001086581610909588,\n",
       " -0.005351040958826722,\n",
       " -0.020766755491651225,\n",
       " -0.0486469863103603,\n",
       " -0.005583695116019747,\n",
       " -0.023405626332408887,\n",
       " -0.013130607036429265,\n",
       " 0.007986723416761604,\n",
       " 0.00041072984311828003,\n",
       " 0.009835206868304967,\n",
       " -0.04668376950597053,\n",
       " -0.003993361708380802,\n",
       " -0.01135861217634265,\n",
       " -0.007566034301104347,\n",
       " -0.016598107233823173,\n",
       " 0.033298198014491916,\n",
       " 0.01796215952462437,\n",
       " -0.01653436565439955,\n",
       " -0.0012214332775254894,\n",
       " -0.014877105078481915,\n",
       " -0.01993812613501498,\n",
       " 0.008949209903922945,\n",
       " -0.026490680778551344,\n",
       " 0.009095814046481165,\n",
       " -0.005315983648937272,\n",
       " -0.01332182898073242,\n",
       " 0.017847426171777963,\n",
       " -0.03546538563786311,\n",
       " -0.01712078222463243,\n",
       " 0.005280926339047822,\n",
       " -0.005102451872439077,\n",
       " -0.013054118444972515,\n",
       " 0.00010128813264716797,\n",
       " 0.2050924293804685,\n",
       " -0.030519099796821596,\n",
       " -0.011046282907515238,\n",
       " 0.01299675083722674,\n",
       " -0.005653809735798647,\n",
       " 0.0031025840324097518,\n",
       " 0.026210220436790603,\n",
       " 0.0012533037179913366,\n",
       " 0.009185050581293609,\n",
       " -0.008866346409465778,\n",
       " -0.014685883134178759,\n",
       " -0.0010493331318405562,\n",
       " -0.006915878014092989,\n",
       " 0.017605211522729453,\n",
       " 0.012282853902114331,\n",
       " -0.027841985125996845,\n",
       " -0.03074856650251441,\n",
       " -0.042910314942749626,\n",
       " -0.0027249196912392548,\n",
       " -0.018025901104047993,\n",
       " 0.0129648809788375,\n",
       " -0.0037288374599678937,\n",
       " -0.0010708456354992578,\n",
       " 0.004477791937800396,\n",
       " 0.001783149194107527,\n",
       " -0.028020460058266874,\n",
       " 0.00012240227035196152,\n",
       " 0.009261540104072928,\n",
       " 0.007553285892087366,\n",
       " -0.006488814461096598,\n",
       " -0.044338106950329303,\n",
       " 0.0034515648025380038,\n",
       " -0.023737078447592416,\n",
       " 0.009867077658016778,\n",
       " -0.00265321134571025,\n",
       " 0.012199991338979735,\n",
       " 0.027536030760169854,\n",
       " 0.003314522083157842,\n",
       " 0.00044538892529701627,\n",
       " 0.0128947663590586,\n",
       " 0.0022309282714722454,\n",
       " -0.017312003237613012,\n",
       " -0.0012182462916865652,\n",
       " 0.0007119051853784038,\n",
       " -0.016802078052804596,\n",
       " 0.009369899485241487,\n",
       " ...]"
      ]
     },
     "execution_count": 73,
     "metadata": {},
     "output_type": "execute_result"
    }
   ],
   "source": [
    "#Let's Import and instantiate OpenAI'sEmbeddings\n",
    "from langchain.embeddings import OpenAIEmbeddings\n",
    "embedding = OpenAIEmbeddings()\n",
    "#OpenAIEmbeddings class can be used to embedd text to vectors\n",
    "#Lets turn the first chunk into vector of floating point numbers\n",
    "vector = embedding.embed_query(chunks[0].page_content)\n",
    "vector\n"
   ]
  },
  {
   "cell_type": "markdown",
   "id": "33d34227-26a5-495f-82c5-2923dfb29683",
   "metadata": {},
   "source": [
    "### Inserting Embeddings into a Piecone Index"
   ]
  },
  {
   "cell_type": "code",
   "execution_count": 75,
   "id": "0222deea-4748-4f79-b729-18b0f757cbaa",
   "metadata": {},
   "outputs": [],
   "source": [
    "#We'll embedd each piece of text into numeric vectors and insert them into a pinecone Index\n",
    "import pinecone\n",
    "from langchain_community.vectorstores import Pinecone\n",
    "pc = pinecone.Pinecone()"
   ]
  },
  {
   "cell_type": "code",
   "execution_count": 76,
   "id": "f18bdbf3-2021-4fff-8941-2cf41e5fbe1c",
   "metadata": {},
   "outputs": [
    {
     "name": "stdout",
     "output_type": "stream",
     "text": [
      "Deleting all indexes ...Done\n"
     ]
    }
   ],
   "source": [
    "#Next step is to create Pinecone Index, we can also use existing Index But with the free plan of Pinecone we are limited to only\n",
    "#one index and one project so let's delete existing index and create a new Index\n",
    "\n",
    "for i in pc.list_indexes().names():\n",
    "    print(f'Deleting all indexes ...', end='')\n",
    "    pc.delete_index(i)\n",
    "    print('Done')"
   ]
  },
  {
   "cell_type": "code",
   "execution_count": 80,
   "id": "748741d2-8c12-4339-b34c-b47e5bdc3602",
   "metadata": {},
   "outputs": [
    {
     "name": "stdout",
     "output_type": "stream",
     "text": [
      "Creating index churchill-speech\n",
      "Done\n"
     ]
    }
   ],
   "source": [
    "#Now lets create a new Index for these embeddings caleed Churchill Speech\n",
    "index_name = 'churchill-speech'\n",
    "if index_name not in pc.list_indexes().names():\n",
    "    print(f'Creating index {index_name}')\n",
    "    pc.create_index(\n",
    "        name=index_name,\n",
    "        dimension = 1536,\n",
    "        metric = 'cosine',\n",
    "        spec= pinecone.PodSpec(\n",
    "            environment = 'gcp-starter'\n",
    "        )\n",
    "    )\n",
    "    print('Done')\n",
    "    "
   ]
  },
  {
   "cell_type": "code",
   "execution_count": 84,
   "id": "ff9f7bcf-eb91-4365-99a5-3aedb2a9add4",
   "metadata": {},
   "outputs": [],
   "source": [
    "vector_store = Pinecone.from_documents(chunks, embedding, index_name=index_name)"
   ]
  },
  {
   "cell_type": "code",
   "execution_count": 86,
   "id": "cdbe7ee9-e633-4047-965f-c8e857401f13",
   "metadata": {},
   "outputs": [],
   "source": [
    "#To load vector store from existing index\n",
    "vector_store = Pinecone.from_existing_index(index_name='churchill-speech',embedding=embedding)"
   ]
  },
  {
   "cell_type": "markdown",
   "id": "f12775be-46b5-45ed-b492-2419d459f8c3",
   "metadata": {},
   "source": [
    "### Asking questions(Similarity Search)\n"
   ]
  },
  {
   "cell_type": "code",
   "execution_count": null,
   "id": "8e3a92b6-6356-4973-87b5-27c2fe0f74d5",
   "metadata": {},
   "outputs": [],
   "source": [
    "#So far we've split the text into chunks and embedded them into vectors and inserted them into pinecone indexes.\n",
    "#Now lets see how to ask questions and do similarity searches\n",
    "#user defines a query and the query is emdded into a vector and similarity search is performed in the vector database and the text behind the most\n",
    "#similar vectors is the answer to user's question\n",
    "\n"
   ]
  },
  {
   "cell_type": "code",
   "execution_count": 87,
   "id": "02395fa5-9c61-43ba-9cee-e1de3e4179bb",
   "metadata": {},
   "outputs": [
    {
     "name": "stdout",
     "output_type": "stream",
     "text": [
      "[Document(page_content='shall fight on the beaches, we shall fight on the landing grounds, we shall fight in the fields and'), Document(page_content='front, now on that, fighting'), Document(page_content='end, we shall fight in France, we shall fight on the seas and oceans, we shall fight with growing'), Document(page_content='Winston Churchill Speech - We Shall Fight on the Beaches\\nWe Shall Fight on the Beaches\\nJune 4, 1940')]\n"
     ]
    }
   ],
   "source": [
    "query = 'Where should we fight?'\n",
    "result = vector_store.similarity_search(query)\n",
    "print(result)"
   ]
  },
  {
   "cell_type": "code",
   "execution_count": 88,
   "id": "ed65bf2e-ac86-4aae-bf28-e6f78ecf3cd6",
   "metadata": {},
   "outputs": [
    {
     "name": "stdout",
     "output_type": "stream",
     "text": [
      "shall fight on the beaches, we shall fight on the landing grounds, we shall fight in the fields and\n",
      "--------------------------------------------------\n",
      "front, now on that, fighting\n",
      "--------------------------------------------------\n",
      "end, we shall fight in France, we shall fight on the seas and oceans, we shall fight with growing\n",
      "--------------------------------------------------\n",
      "Winston Churchill Speech - We Shall Fight on the Beaches\n",
      "We Shall Fight on the Beaches\n",
      "June 4, 1940\n",
      "--------------------------------------------------\n"
     ]
    }
   ],
   "source": [
    "#We see how it extracted the chunks relevant to the query\n",
    "#We can also iterate over chunks and only print chunk text\n",
    "for r in result:\n",
    "    print(r.page_content)\n",
    "    print('-' * 50)"
   ]
  },
  {
   "cell_type": "code",
   "execution_count": 90,
   "id": "e789e28f-e4ec-4086-bae1-31f274718722",
   "metadata": {},
   "outputs": [],
   "source": [
    "#These chunks represent the answer but we can't give this to users like this we need the answer in natural language.\n",
    "#That's where LLM comes in, we'll reieve most similar chunks of text and feed them to the language model for final answer\n",
    "from langchain.chains import RetrievalQA\n",
    "from langchain.chat_models import ChatOpenAI\n",
    "\n",
    "llm = ChatOpenAI(model='gpt-3.5-turbo', temperature=1)\n",
    "#Let's expose this index in a  retriever interface\n",
    "#retriever is a generic interface that  makes it easy to combine docs with Language models\n",
    "retriever = vector_store.as_retriever(search_type='similarity', search_kwargs={'k':3})#it will return 3 most similar chunks to user query\n",
    "\n",
    "chain = RetrievalQA.from_chain_type(llm=llm, chain_type=\"stuff\", retriever=retriever)\n",
    "#The default chain type \"stuff\" uses all of the text from the docs in the prompt"
   ]
  },
  {
   "cell_type": "code",
   "execution_count": 93,
   "id": "88850e31-2e15-4fa5-be3d-5d23c31052a7",
   "metadata": {},
   "outputs": [
    {
     "name": "stdout",
     "output_type": "stream",
     "text": [
      "We shall fight on the beaches, we shall fight on the landing grounds, we shall fight in the fields and front, we shall fight in France, we shall fight on the seas and oceans.\n"
     ]
    }
   ],
   "source": [
    "query='Where should we fight?'\n",
    "answer = chain.run(query)\n",
    "print(answer)"
   ]
  },
  {
   "cell_type": "code",
   "execution_count": 95,
   "id": "73aeecc3-b494-4d7c-9c74-e34ee973396f",
   "metadata": {},
   "outputs": [
    {
     "name": "stdout",
     "output_type": "stream",
     "text": [
      "The King of Belgium during the time when the country was invaded and called for aid was King Leopold.\n"
     ]
    }
   ],
   "source": [
    "query='Who was the king of Belgium?'\n",
    "answer=chain.run(query)\n",
    "print(answer)"
   ]
  },
  {
   "cell_type": "code",
   "execution_count": null,
   "id": "1895603a-7b25-4b6a-9f55-20c94ff18a7b",
   "metadata": {},
   "outputs": [],
   "source": []
  }
 ],
 "metadata": {
  "kernelspec": {
   "display_name": "Python 3 (ipykernel)",
   "language": "python",
   "name": "python3"
  },
  "language_info": {
   "codemirror_mode": {
    "name": "ipython",
    "version": 3
   },
   "file_extension": ".py",
   "mimetype": "text/x-python",
   "name": "python",
   "nbconvert_exporter": "python",
   "pygments_lexer": "ipython3",
   "version": "3.12.6"
  }
 },
 "nbformat": 4,
 "nbformat_minor": 5
}
